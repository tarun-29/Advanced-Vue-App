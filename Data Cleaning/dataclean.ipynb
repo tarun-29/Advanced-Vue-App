{
 "metadata": {
  "language_info": {
   "codemirror_mode": {
    "name": "ipython",
    "version": 3
   },
   "file_extension": ".py",
   "mimetype": "text/x-python",
   "name": "python",
   "nbconvert_exporter": "python",
   "pygments_lexer": "ipython3",
   "version": "3.7.7-final"
  },
  "orig_nbformat": 2,
  "kernelspec": {
   "name": "Python 3.7.7 64-bit ('CVCourse': conda)",
   "display_name": "Python 3.7.7 64-bit ('CVCourse': conda)",
   "metadata": {
    "interpreter": {
     "hash": "89d54fadbb213a6286d030312e00d884f5beca6b9cf4acd03615b483ecf341e6"
    }
   }
  }
 },
 "nbformat": 4,
 "nbformat_minor": 2,
 "cells": [
  {
   "cell_type": "code",
   "execution_count": 18,
   "metadata": {},
   "outputs": [],
   "source": [
    "import numpy as np\n",
    "import pandas as pd"
   ]
  },
  {
   "cell_type": "code",
   "execution_count": 19,
   "metadata": {},
   "outputs": [],
   "source": [
    "df = pd.read_csv('Match.csv')"
   ]
  },
  {
   "cell_type": "code",
   "execution_count": 20,
   "metadata": {},
   "outputs": [
    {
     "output_type": "stream",
     "name": "stdout",
     "text": [
      "    Match_Id Match_Date  Team_Name_Id  Opponent_Team_Id  Season_Id  \\\n4     335991  20-Apr-08             1                 8          1   \n15    336002  29-Apr-08             1                 7          1   \n28    336015   8-May-08             1                 2          1   \n35    336022  13-May-08             1                 6          1   \n43    336030  18-May-08             1                 3          1   \n45    336032  20-May-08             1                 5          1   \n52    336040  25-May-08             1                 4          1   \n\n      Venue_Name  Toss_Winner_Id Toss_Decision  IS_Superover  IS_Result  \\\n4   Eden Gardens               8           bat             0          1   \n15  Eden Gardens               1           bat             0          1   \n28  Eden Gardens               1           bat             0          1   \n35  Eden Gardens               1           bat             0          1   \n43  Eden Gardens               1           bat             0          1   \n45  Eden Gardens               5         field             0          1   \n52  Eden Gardens               4           bat             0          1   \n\n    Is_DuckWorthLewis    Win_Type  Won_By  Match_Winner_Id  \\\n4                   0  by wickets     5.0              1.0   \n15                  0  by wickets     7.0              7.0   \n28                  0     by runs     5.0              1.0   \n35                  0     by runs    23.0              1.0   \n43                  1     by runs     3.0              3.0   \n45                  0  by wickets     6.0              5.0   \n52                  0  by wickets     3.0              1.0   \n\n    Man_Of_The_Match_Id  First_Umpire_Id  Second_Umpire_Id City_Name  \\\n4                   4.0              474               486   Kolkata   \n15                 44.0              474               479   Kolkata   \n28                  1.0              470               475   Kolkata   \n35                144.0              470               475   Kolkata   \n43                122.0              470               486   Kolkata   \n45                 31.0              480               477   Kolkata   \n52                105.0              473               514   Kolkata   \n\n   Host_Country  \n4         India  \n15        India  \n28        India  \n35        India  \n43        India  \n45        India  \n52        India  \n"
     ]
    }
   ],
   "source": [
    "# Checking here to get the all the matches played by one single team (Team id) in one season 2008 - 2009\n",
    "print(df.loc[(df['Team_Name_Id'] == 1) & (df['Match_Date'].apply(lambda x: x[-2:]).astype(int) == 8)])"
   ]
  },
  {
   "cell_type": "code",
   "execution_count": 23,
   "metadata": {},
   "outputs": [],
   "source": [
    "# Creating one total match list of list for all team id respective (pushing all the matchs played between 2008-2016 in each team id list)\n",
    "totalMatches = [[]*0 for i in range(14)]\n",
    "for i in range(1,14):\n",
    "    for j in range(8,17):\n",
    "        totalMatches[i].append(len(df.loc[(df['Team_Name_Id']==i) & (df['Match_Date'].apply(lambda x: x[-2:]).astype(int)==j)]) + len(df.loc[(df['Opponent_Team_Id']==i) & (df['Match_Date'].apply(lambda x: x[-2:]).astype(int)==j)]))"
   ]
  },
  {
   "cell_type": "code",
   "execution_count": 26,
   "metadata": {},
   "outputs": [],
   "source": [
    "# Similiarly for total match won by each team\n",
    "totalMatchesWon = [[]*0 for i in range(14)]\n",
    "for i in range(1,14):\n",
    "    for j in range(8,17):\n",
    "                totalMatchesWon[i].append(len(df.loc[(df['Team_Name_Id'] == i) & (df['Match_Date'].apply(lambda x: x[-2:]).astype(int) == j) & (df['Match_Winner_Id'] == i)]) + len(df.loc[(df['Opponent_Team_Id'] == i) & (df['Match_Date'].apply(lambda x: x[-2:]).astype(int) == j) & (df['Match_Winner_Id'] == i)]))"
   ]
  },
  {
   "cell_type": "code",
   "execution_count": 28,
   "metadata": {},
   "outputs": [
    {
     "output_type": "execute_result",
     "data": {
      "text/plain": [
       "[[],\n",
       " [6, 3, 7, 8, 12, 6, 11, 7, 8],\n",
       " [4, 9, 8, 10, 8, 9, 5, 8, 9],\n",
       " [9, 8, 9, 11, 10, 12, 10, 10, 0],\n",
       " [10, 7, 4, 7, 8, 8, 12, 3, 4],\n",
       " [13, 6, 6, 6, 7, 11, 7, 7, 0],\n",
       " [7, 10, 7, 4, 11, 3, 2, 5, 7],\n",
       " [7, 5, 11, 10, 10, 13, 7, 10, 7],\n",
       " [2, 9, 8, 6, 4, 0, 0, 0, 0],\n",
       " [0, 0, 0, 6, 0, 0, 0, 0, 0],\n",
       " [0, 0, 0, 4, 4, 4, 0, 0, 0],\n",
       " [0, 0, 0, 0, 0, 10, 6, 7, 11],\n",
       " [0, 0, 0, 0, 0, 0, 0, 0, 5],\n",
       " [0, 0, 0, 0, 0, 0, 0, 0, 9]]"
      ]
     },
     "metadata": {},
     "execution_count": 28
    }
   ],
   "source": [
    "totalMatchesWon"
   ]
  },
  {
   "cell_type": "code",
   "execution_count": 29,
   "metadata": {},
   "outputs": [],
   "source": [
    "# calculating all tie win match by team id respective\n",
    "tieAndWon = [[]*0 for i in range(14)]\n",
    "for i in range(1,14):\n",
    "    tieAndWon[i].append(len(df.loc[(df['Team_Name_Id']==i) & (df['Match_Winner_Id']==i) & (df['IS_Superover']==1)]))"
   ]
  },
  {
   "cell_type": "code",
   "execution_count": 30,
   "metadata": {},
   "outputs": [
    {
     "output_type": "execute_result",
     "data": {
      "text/plain": [
       "[[], [0], [1], [0], [0], [0], [0], [0], [0], [0], [0], [1], [0], [0]]"
      ]
     },
     "metadata": {},
     "execution_count": 30
    }
   ],
   "source": [
    "tieAndWon"
   ]
  },
  {
   "cell_type": "code",
   "execution_count": 31,
   "metadata": {},
   "outputs": [],
   "source": [
    "tieAndLose = [[]*0 for i in range(14)]\n",
    "for i in range(1,14):\n",
    "    tieAndLose[i].append(len(df.loc[(df['Team_Name_Id'] == i) & (df['Match_Winner_Id'] != i) & (df['IS_Superover'] == 1)]))"
   ]
  },
  {
   "cell_type": "code",
   "execution_count": 32,
   "metadata": {},
   "outputs": [
    {
     "output_type": "execute_result",
     "data": {
      "text/plain": [
       "[[], [2], [0], [1], [0], [1], [0], [0], [0], [0], [0], [0], [0], [0]]"
      ]
     },
     "metadata": {},
     "execution_count": 32
    }
   ],
   "source": [
    "tieAndLose"
   ]
  },
  {
   "cell_type": "code",
   "execution_count": 34,
   "metadata": {},
   "outputs": [],
   "source": [
    "# Team which won in final match\n",
    "first = [[]*0 for i in range(17)]\n",
    "for i in range(8,17):\n",
    "    first[i].append(df.loc[(df['Match_Date'].apply(lambda x: x[-2:]).astype(int) == i)][-1:]['Match_Winner_Id'].values[0])"
   ]
  },
  {
   "cell_type": "code",
   "execution_count": 36,
   "metadata": {},
   "outputs": [],
   "source": [
    "# Team which loss in final match\n",
    "second = [[]*0 for i in range(17)]\n",
    "for i in range(8, 17):\n",
    "    lastMatch = df.loc[(df['Match_Date'].apply(lambda x: x[-2:]).astype(int) == i)][-1:]\n",
    "    if lastMatch['Match_Winner_Id'].values[0] == lastMatch['Team_Name_Id'].values[0]:\n",
    "        secondTeam = lastMatch['Opponent_Team_Id'].values[0]\n",
    "    else:\n",
    "        secondTeam = lastMatch['Team_Name_Id'].values[0]\n",
    "    second[i].append(secondTeam)"
   ]
  },
  {
   "cell_type": "code",
   "execution_count": 39,
   "metadata": {},
   "outputs": [],
   "source": [
    "matchesPlace = [[]*0 for i in range(17)]\n",
    "for i in range(8,17):\n",
    "    data = df.loc[df['Match_Date'].apply(lambda x: x[-2:]).astype(int) == i]\n",
    "    m = pd.DataFrame(data=data, columns=['Match_Date','City_Name', 'Host_Country','Match_Date', 'lat', 'lng', 'Venue_Name'])\n",
    "    w = \"0\"+str(i) if i < 10 else str(i)\n",
    "    m.to_csv('matches-20'+w+'.csv', header=True, index=False)"
   ]
  },
  {
   "cell_type": "code",
   "execution_count": 40,
   "metadata": {},
   "outputs": [],
   "source": [
    "for i in range(8,17):\n",
    "    data = df.loc[df['Match_Date'].apply(lambda x: x[-2:]).astype(int) == i]\n",
    "    m = pd.DataFrame(data=data, columns=['Match_Date','Team_Name_Id', 'Opponent_Team_Id','Match_Winner_Id', 'Win_Type', 'Won_By'])\n",
    "    changeColumn = ['Team_Name_Id', 'Opponent_Team_Id', 'Match_Winner_Id']\n",
    "    for j in range(len(changeColumn)):\n",
    "        m[changeColumn[j]] = m[changeColumn[j]].map({\n",
    "            1: 'Kolkata Knight Riders',\n",
    "            2: 'Royal Challengers Bangalore',\n",
    "            3: 'Chennai Super Kings',\n",
    "            4: 'Kings XI Punjab',\n",
    "            5: 'Rajasthan Royals',\n",
    "            6: 'Delhi Daredevils',\n",
    "            7: 'Mumbai Indians',\n",
    "            9: 'Deccan Chargers',\n",
    "            8: 'Kochi Tuskers Kerala',\n",
    "            10: 'Pune Warriors',\n",
    "            11: 'Sunrisers Hyderabad',\n",
    "            12: 'Rising Pune Supergiants',\n",
    "            13: 'Gujarat Lions'\n",
    "        })\n",
    "    w = \"0\"+str(i) if i < 10 else str(i)\n",
    "    m.to_csv('matches-20'+w+'-1'+'.csv', header=True, index=False)"
   ]
  },
  {
   "cell_type": "code",
   "execution_count": null,
   "metadata": {},
   "outputs": [],
   "source": []
  }
 ]
}